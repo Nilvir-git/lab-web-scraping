{
 "cells": [
  {
   "cell_type": "markdown",
   "id": "7e7a1ab8-2599-417d-9a65-25ef07f3a786",
   "metadata": {
    "id": "7e7a1ab8-2599-417d-9a65-25ef07f3a786"
   },
   "source": [
    "# Lab | Web Scraping"
   ]
  },
  {
   "cell_type": "markdown",
   "id": "ce8882fc-4815-4567-92fa-b4816358ba7d",
   "metadata": {
    "id": "ce8882fc-4815-4567-92fa-b4816358ba7d"
   },
   "source": [
    "Welcome to the \"Books to Scrape\" Web Scraping Adventure Lab!\n",
    "\n",
    "**Objective**\n",
    "\n",
    "In this lab, we will embark on a mission to unearth valuable insights from the data available on Books to Scrape, an online platform showcasing a wide variety of books. As data analyst, you have been tasked with scraping a specific subset of book data from Books to Scrape to assist publishing companies in understanding the landscape of highly-rated books across different genres. Your insights will help shape future book marketing strategies and publishing decisions.\n",
    "\n",
    "**Background**\n",
    "\n",
    "In a world where data has become the new currency, businesses are leveraging big data to make informed decisions that drive success and profitability. The publishing industry, much like others, utilizes data analytics to understand market trends, reader preferences, and the performance of books based on factors such as genre, author, and ratings. Books to Scrape serves as a rich source of such data, offering detailed information about a diverse range of books, making it an ideal platform for extracting insights to aid in informed decision-making within the literary world.\n",
    "\n",
    "**Task**\n",
    "\n",
    "Your task is to create a Python script using BeautifulSoup and pandas to scrape Books to Scrape book data, focusing on book ratings and genres. The script should be able to filter books with ratings above a certain threshold and in specific genres. Additionally, the script should structure the scraped data in a tabular format using pandas for further analysis.\n",
    "\n",
    "**Expected Outcome**\n",
    "\n",
    "A function named `scrape_books` that takes two parameters: `min_rating` and `max_price`. The function should scrape book data from the \"Books to Scrape\" website and return a `pandas` DataFrame with the following columns:\n",
    "\n",
    "**Expected Outcome**\n",
    "\n",
    "- A function named `scrape_books` that takes two parameters: `min_rating` and `max_price`.\n",
    "- The function should return a DataFrame with the following columns:\n",
    "  - **UPC**: The Universal Product Code (UPC) of the book.\n",
    "  - **Title**: The title of the book.\n",
    "  - **Price (£)**: The price of the book in pounds.\n",
    "  - **Rating**: The rating of the book (1-5 stars).\n",
    "  - **Genre**: The genre of the book.\n",
    "  - **Availability**: Whether the book is in stock or not.\n",
    "  - **Description**: A brief description or product description of the book (if available).\n",
    "  \n",
    "You will execute this script to scrape data for books with a minimum rating of `4.0 and above` and a maximum price of `£20`. \n",
    "\n",
    "Remember to experiment with different ratings and prices to ensure your code is versatile and can handle various searches effectively!\n",
    "\n",
    "**Resources**\n",
    "\n",
    "- [Beautiful Soup Documentation](https://www.crummy.com/software/BeautifulSoup/bs4/doc/)\n",
    "- [Pandas Documentation](https://pandas.pydata.org/pandas-docs/stable/index.html)\n",
    "- [Books to Scrape](https://books.toscrape.com/)\n"
   ]
  },
  {
   "cell_type": "markdown",
   "id": "3519921d-5890-445b-9a33-934ed8ee378c",
   "metadata": {
    "id": "3519921d-5890-445b-9a33-934ed8ee378c"
   },
   "source": [
    "**Hint**\n",
    "\n",
    "Your first mission is to familiarize yourself with the **Books to Scrape** website. Navigate to [Books to Scrape](http://books.toscrape.com/) and explore the available books to understand their layout and structure. \n",
    "\n",
    "Next, think about how you can set parameters for your data extraction:\n",
    "\n",
    "- **Minimum Rating**: Focus on books with a rating of 4.0 and above.\n",
    "- **Maximum Price**: Filter for books priced up to £20.\n",
    "\n",
    "After reviewing the site, you can construct a plan for scraping relevant data. Pay attention to the details displayed for each book, including the title, price, rating, and availability. This will help you identify the correct HTML elements to target with your scraping script.\n",
    "\n",
    "Make sure to build your scraping URL and logic based on the patterns you observe in the HTML structure of the book listings!"
   ]
  },
  {
   "cell_type": "markdown",
   "id": "25a83a0d-a742-49f6-985e-e27887cbf922",
   "metadata": {
    "id": "25a83a0d-a742-49f6-985e-e27887cbf922"
   },
   "source": [
    "\n",
    "---\n",
    "\n",
    "**Best of luck! Immerse yourself in the world of books, and may the data be with you!**"
   ]
  },
  {
   "cell_type": "markdown",
   "id": "7b75cf0d-9afa-4eec-a9e2-befeac68b2a0",
   "metadata": {
    "id": "7b75cf0d-9afa-4eec-a9e2-befeac68b2a0"
   },
   "source": [
    "**Important Note**:\n",
    "\n",
    "In the fast-changing online world, websites often update and change their structures. When you try this lab, the **Books to Scrape** website might differ from what you expect.\n",
    "\n",
    "If you encounter issues due to these changes, like new rules or obstacles preventing data extraction, don’t worry! Get creative.\n",
    "\n",
    "You can choose another website that interests you and is suitable for scraping data. Options like Wikipedia, The New York Times, or even library databases are great alternatives. The main goal remains the same: extract useful data and enhance your web scraping skills while exploring a source of information you enjoy. This is your opportunity to practice and adapt to different web environments!"
   ]
  },
  {
   "cell_type": "code",
   "execution_count": 5,
   "id": "40359eee-9cd7-4884-bfa4-83344c222305",
   "metadata": {
    "id": "40359eee-9cd7-4884-bfa4-83344c222305"
   },
   "outputs": [],
   "source": [
    "import requests\n",
    "\n",
    "from bs4 import BeautifulSoup\n",
    "\n",
    "import pandas as pd\n",
    "\n",
    "import time"
   ]
  },
  {
   "cell_type": "code",
   "execution_count": 6,
   "id": "e4cac8dd-0408-48e7-9285-9327292bf673",
   "metadata": {},
   "outputs": [
    {
     "data": {
      "text/plain": [
       "<Response [200]>"
      ]
     },
     "execution_count": 6,
     "metadata": {},
     "output_type": "execute_result"
    }
   ],
   "source": [
    "url = \"https://books.toscrape.com/\"\n",
    "\n",
    "response = requests.get(url)\n",
    "response"
   ]
  },
  {
   "cell_type": "code",
   "execution_count": 8,
   "id": "d253e9e9-a0b1-4bf7-801a-b777f39bed3a",
   "metadata": {},
   "outputs": [
    {
     "data": {
      "text/plain": [
       "bs4.BeautifulSoup"
      ]
     },
     "execution_count": 8,
     "metadata": {},
     "output_type": "execute_result"
    }
   ],
   "source": [
    "soup = BeautifulSoup(response.content)\n",
    "type(soup)"
   ]
  },
  {
   "cell_type": "code",
   "execution_count": 9,
   "id": "b5ad261a-4ec4-4b50-8dec-c53ed001001a",
   "metadata": {},
   "outputs": [],
   "source": [
    "def rating_to_number(rating_class):\n",
    "    ratings = {\n",
    "        \"One\": 1,\n",
    "        \"Two\": 2,\n",
    "        \"Three\": 3,\n",
    "        \"Four\": 4,\n",
    "        \"Five\": 5\n",
    "    }\n",
    "    return ratings.get(rating_class, 0)"
   ]
  },
  {
   "cell_type": "code",
   "execution_count": 10,
   "id": "9b2e30a2-ce75-4684-a628-dab38bbc1fd8",
   "metadata": {},
   "outputs": [],
   "source": [
    "def get_book_details(book_url): #include the specific book url\n",
    "    response = requests.get(book_url)\n",
    "    soup = BeautifulSoup(response.content, 'html.parser')\n",
    "\n",
    "    table = soup.find('table', class_='table table-striped')\n",
    "    product_info = {row.th.text: row.td.text for row in table.find_all('tr')}\n",
    "    upc = product_info.get('UPC', '')\n",
    "    price_text = product_info.get('Price (incl. tax)', '')\n",
    "    price = float(price_text.replace('£', '').strip()) if price_text else None\n",
    "    availability = product_info.get('Availability', '').strip()\n",
    "\n",
    "    description_tag = soup.find('meta', attrs={'name': 'description'})\n",
    "    description = description_tag['content'].strip() if description_tag else ''\n",
    "\n",
    "    genre = soup.select('ul.breadcrumb li')[-2].text.strip()\n",
    "\n",
    "    return upc, price, availability, description, genre"
   ]
  },
  {
   "cell_type": "code",
   "execution_count": 11,
   "id": "d08dac22-063d-4945-a9f6-7d3dbbcd1849",
   "metadata": {},
   "outputs": [],
   "source": [
    "def scrape_books(min_rating=4, max_price=20):\n",
    "    base_url = \"https://books.toscrape.com/catalogue/page-{}.html\"\n",
    "    book_data = []\n",
    "\n",
    "    for page in range(1, 51):\n",
    "        url = base_url.format(page)\n",
    "        response = requests.get(url)\n",
    "        if response.status_code != 200:\n",
    "            break\n",
    "        soup = BeautifulSoup(response.content, 'html.parser')\n",
    "        articles = soup.find_all('article', class_='product_pod')\n",
    "\n",
    "        for article in articles:\n",
    "            title = article.h3.a['title']\n",
    "            rating_class = article.p['class'][1]\n",
    "            rating = rating_to_number(rating_class)\n",
    "            price_text = article.find('p', class_='price_color').text\n",
    "            price = float(price_text.replace('£', '').strip())\n",
    "            relative_url = article.h3.a['href'].replace('../../../', '')\n",
    "            book_url = f\"https://books.toscrape.com/catalogue/{relative_url}\"\n",
    "\n",
    "            if rating >= min_rating and price <= max_price:\n",
    "                upc, full_price, availability, description, genre = get_book_details(book_url)\n",
    "                book_data.append({\n",
    "                    'UPC': upc,\n",
    "                    'Title': title,\n",
    "                    'Price (£)': full_price,\n",
    "                    'Rating': rating,\n",
    "                    'Genre': genre,\n",
    "                    'Availability': availability,\n",
    "                    'Description': description\n",
    "                })\n",
    "                time.sleep(0.5)\n",
    "\n",
    "    return pd.DataFrame(book_data)"
   ]
  },
  {
   "cell_type": "code",
   "execution_count": 12,
   "id": "5d6dfc69-cec8-4e43-a71e-d8abaea66089",
   "metadata": {},
   "outputs": [
    {
     "data": {
      "text/html": [
       "<div>\n",
       "<style scoped>\n",
       "    .dataframe tbody tr th:only-of-type {\n",
       "        vertical-align: middle;\n",
       "    }\n",
       "\n",
       "    .dataframe tbody tr th {\n",
       "        vertical-align: top;\n",
       "    }\n",
       "\n",
       "    .dataframe thead th {\n",
       "        text-align: right;\n",
       "    }\n",
       "</style>\n",
       "<table border=\"1\" class=\"dataframe\">\n",
       "  <thead>\n",
       "    <tr style=\"text-align: right;\">\n",
       "      <th></th>\n",
       "      <th>UPC</th>\n",
       "      <th>Title</th>\n",
       "      <th>Price (£)</th>\n",
       "      <th>Rating</th>\n",
       "      <th>Genre</th>\n",
       "      <th>Availability</th>\n",
       "      <th>Description</th>\n",
       "    </tr>\n",
       "  </thead>\n",
       "  <tbody>\n",
       "    <tr>\n",
       "      <th>0</th>\n",
       "      <td>ce6396b0f23f6ecc</td>\n",
       "      <td>Set Me Free</td>\n",
       "      <td>17.46</td>\n",
       "      <td>5</td>\n",
       "      <td>Young Adult</td>\n",
       "      <td>In stock (19 available)</td>\n",
       "      <td>Aaron Ledbetter’s future had been planned out ...</td>\n",
       "    </tr>\n",
       "    <tr>\n",
       "      <th>1</th>\n",
       "      <td>6258a1f6a6dcfe50</td>\n",
       "      <td>The Four Agreements: A Practical Guide to Pers...</td>\n",
       "      <td>17.66</td>\n",
       "      <td>5</td>\n",
       "      <td>Spirituality</td>\n",
       "      <td>In stock (18 available)</td>\n",
       "      <td>In The Four Agreements, don Miguel Ruiz reveal...</td>\n",
       "    </tr>\n",
       "    <tr>\n",
       "      <th>2</th>\n",
       "      <td>6be3beb0793a53e7</td>\n",
       "      <td>Sophie's World</td>\n",
       "      <td>15.94</td>\n",
       "      <td>5</td>\n",
       "      <td>Philosophy</td>\n",
       "      <td>In stock (18 available)</td>\n",
       "      <td>A page-turning novel that is also an explorati...</td>\n",
       "    </tr>\n",
       "    <tr>\n",
       "      <th>3</th>\n",
       "      <td>657fe5ead67a7767</td>\n",
       "      <td>Untitled Collection: Sabbath Poems 2014</td>\n",
       "      <td>14.27</td>\n",
       "      <td>4</td>\n",
       "      <td>Poetry</td>\n",
       "      <td>In stock (16 available)</td>\n",
       "      <td>More than thirty-five years ago, when the weat...</td>\n",
       "    </tr>\n",
       "    <tr>\n",
       "      <th>4</th>\n",
       "      <td>51653ef291ab7ddc</td>\n",
       "      <td>This One Summer</td>\n",
       "      <td>19.49</td>\n",
       "      <td>4</td>\n",
       "      <td>Sequential Art</td>\n",
       "      <td>In stock (16 available)</td>\n",
       "      <td>Every summer, Rose goes with her mom and dad t...</td>\n",
       "    </tr>\n",
       "    <tr>\n",
       "      <th>...</th>\n",
       "      <td>...</td>\n",
       "      <td>...</td>\n",
       "      <td>...</td>\n",
       "      <td>...</td>\n",
       "      <td>...</td>\n",
       "      <td>...</td>\n",
       "      <td>...</td>\n",
       "    </tr>\n",
       "    <tr>\n",
       "      <th>70</th>\n",
       "      <td>9c96cd1329fbd82d</td>\n",
       "      <td>The Zombie Room</td>\n",
       "      <td>19.69</td>\n",
       "      <td>5</td>\n",
       "      <td>Default</td>\n",
       "      <td>In stock (1 available)</td>\n",
       "      <td>An unlikely bond is forged between three men f...</td>\n",
       "    </tr>\n",
       "    <tr>\n",
       "      <th>71</th>\n",
       "      <td>b78deb463531d078</td>\n",
       "      <td>The Silent Wife</td>\n",
       "      <td>12.34</td>\n",
       "      <td>5</td>\n",
       "      <td>Fiction</td>\n",
       "      <td>In stock (1 available)</td>\n",
       "      <td>A chilling psychological thriller about a marr...</td>\n",
       "    </tr>\n",
       "    <tr>\n",
       "      <th>72</th>\n",
       "      <td>4280ac3eab57aa5d</td>\n",
       "      <td>The Girl You Lost</td>\n",
       "      <td>12.29</td>\n",
       "      <td>5</td>\n",
       "      <td>Mystery</td>\n",
       "      <td>In stock (1 available)</td>\n",
       "      <td>Eighteen years ago your baby daughter was snat...</td>\n",
       "    </tr>\n",
       "    <tr>\n",
       "      <th>73</th>\n",
       "      <td>29fc016c459aeb14</td>\n",
       "      <td>The Edge of Reason (Bridget Jones #2)</td>\n",
       "      <td>19.18</td>\n",
       "      <td>4</td>\n",
       "      <td>Womens Fiction</td>\n",
       "      <td>In stock (1 available)</td>\n",
       "      <td>Monday 27 January“7:15 a.m. Hurrah! The wilder...</td>\n",
       "    </tr>\n",
       "    <tr>\n",
       "      <th>74</th>\n",
       "      <td>19fec36a1dfb4c16</td>\n",
       "      <td>A Spy's Devotion (The Regency Spies of London #1)</td>\n",
       "      <td>16.97</td>\n",
       "      <td>5</td>\n",
       "      <td>Historical Fiction</td>\n",
       "      <td>In stock (1 available)</td>\n",
       "      <td>In England’s Regency era, manners and elegance...</td>\n",
       "    </tr>\n",
       "  </tbody>\n",
       "</table>\n",
       "<p>75 rows × 7 columns</p>\n",
       "</div>"
      ],
      "text/plain": [
       "                 UPC                                              Title  \\\n",
       "0   ce6396b0f23f6ecc                                        Set Me Free   \n",
       "1   6258a1f6a6dcfe50  The Four Agreements: A Practical Guide to Pers...   \n",
       "2   6be3beb0793a53e7                                     Sophie's World   \n",
       "3   657fe5ead67a7767            Untitled Collection: Sabbath Poems 2014   \n",
       "4   51653ef291ab7ddc                                    This One Summer   \n",
       "..               ...                                                ...   \n",
       "70  9c96cd1329fbd82d                                    The Zombie Room   \n",
       "71  b78deb463531d078                                    The Silent Wife   \n",
       "72  4280ac3eab57aa5d                                  The Girl You Lost   \n",
       "73  29fc016c459aeb14              The Edge of Reason (Bridget Jones #2)   \n",
       "74  19fec36a1dfb4c16  A Spy's Devotion (The Regency Spies of London #1)   \n",
       "\n",
       "    Price (£)  Rating               Genre             Availability  \\\n",
       "0       17.46       5         Young Adult  In stock (19 available)   \n",
       "1       17.66       5        Spirituality  In stock (18 available)   \n",
       "2       15.94       5          Philosophy  In stock (18 available)   \n",
       "3       14.27       4              Poetry  In stock (16 available)   \n",
       "4       19.49       4      Sequential Art  In stock (16 available)   \n",
       "..        ...     ...                 ...                      ...   \n",
       "70      19.69       5             Default   In stock (1 available)   \n",
       "71      12.34       5             Fiction   In stock (1 available)   \n",
       "72      12.29       5             Mystery   In stock (1 available)   \n",
       "73      19.18       4      Womens Fiction   In stock (1 available)   \n",
       "74      16.97       5  Historical Fiction   In stock (1 available)   \n",
       "\n",
       "                                          Description  \n",
       "0   Aaron Ledbetter’s future had been planned out ...  \n",
       "1   In The Four Agreements, don Miguel Ruiz reveal...  \n",
       "2   A page-turning novel that is also an explorati...  \n",
       "3   More than thirty-five years ago, when the weat...  \n",
       "4   Every summer, Rose goes with her mom and dad t...  \n",
       "..                                                ...  \n",
       "70  An unlikely bond is forged between three men f...  \n",
       "71  A chilling psychological thriller about a marr...  \n",
       "72  Eighteen years ago your baby daughter was snat...  \n",
       "73  Monday 27 January“7:15 a.m. Hurrah! The wilder...  \n",
       "74  In England’s Regency era, manners and elegance...  \n",
       "\n",
       "[75 rows x 7 columns]"
      ]
     },
     "execution_count": 12,
     "metadata": {},
     "output_type": "execute_result"
    }
   ],
   "source": [
    "df = scrape_books(min_rating=4, max_price=20)\n",
    "df"
   ]
  },
  {
   "cell_type": "code",
   "execution_count": null,
   "id": "0194b62f-baa6-4b18-a132-3d3f36b0d9ba",
   "metadata": {},
   "outputs": [],
   "source": []
  },
  {
   "cell_type": "code",
   "execution_count": null,
   "id": "977c6e77-906e-4a16-b621-4aab608895f0",
   "metadata": {},
   "outputs": [],
   "source": []
  },
  {
   "cell_type": "code",
   "execution_count": null,
   "id": "87bc59cd-dab2-4ed0-829e-db49ef0ca66c",
   "metadata": {},
   "outputs": [],
   "source": []
  }
 ],
 "metadata": {
  "colab": {
   "provenance": []
  },
  "kernelspec": {
   "display_name": "Python 3 (ipykernel)",
   "language": "python",
   "name": "python3"
  },
  "language_info": {
   "codemirror_mode": {
    "name": "ipython",
    "version": 3
   },
   "file_extension": ".py",
   "mimetype": "text/x-python",
   "name": "python",
   "nbconvert_exporter": "python",
   "pygments_lexer": "ipython3",
   "version": "3.13.3"
  }
 },
 "nbformat": 4,
 "nbformat_minor": 5
}
